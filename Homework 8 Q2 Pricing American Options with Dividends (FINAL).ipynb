{
 "cells": [
  {
   "cell_type": "code",
   "execution_count": 1,
   "metadata": {},
   "outputs": [],
   "source": [
    "import numpy as np"
   ]
  },
  {
   "cell_type": "markdown",
   "metadata": {},
   "source": [
    "# American Option Pricing\n",
    "Binomial Options Pricing Model to price american options (the ability to exercise the option early)"
   ]
  },
  {
   "cell_type": "code",
   "execution_count": 2,
   "metadata": {},
   "outputs": [],
   "source": [
    "def american_option(dp, S0, K, T, r, q, sigma, n_steps, dt, opttype):\n",
    "    \n",
    "    disc = np.exp(-r*dt)\n",
    "    \n",
    "    if (S0, n_steps) in dp:\n",
    "        return dp[(S0, n_steps)]\n",
    "\n",
    "    if n_steps == 0:\n",
    "        \n",
    "        if opttype == 'C':\n",
    "            dp[(S0, n_steps)] = max(S0 - K, 0)\n",
    "        elif  opttype == 'P':\n",
    "            dp[(S0, n_steps)] = max(K - S0, 0)\n",
    "            \n",
    "        return dp[(S0, n_steps)]\n",
    "    else:\n",
    "        u = np.exp(sigma * np.sqrt(dt))\n",
    "        d = np.exp(-sigma * np.sqrt(dt))\n",
    "        p = (np.exp((r-q)*dt) - d)/(u-d)\n",
    "        fu = american_option(dp, S0 * u, K, T - dt, r, q, sigma, n_steps - 1, dt, opttype)\n",
    "        fd = american_option(dp, S0 * d, K, T - dt, r, q, sigma, n_steps - 1, dt, opttype)\n",
    "        f = p * fu + (1 - p) * fd\n",
    "        \n",
    "        if opttype == 'C':\n",
    "            dp[(S0, n_steps)] = max(disc*f, S0-K)\n",
    "        elif  opttype == 'P':\n",
    "            dp[(S0, n_steps)] = max(disc*f, K-S0)\n",
    "\n",
    "        \n",
    "        return dp[(S0, n_steps)]"
   ]
  },
  {
   "cell_type": "markdown",
   "metadata": {},
   "source": [
    "### Run BOTH if calculating for PUT Option"
   ]
  },
  {
   "cell_type": "code",
   "execution_count": 3,
   "metadata": {},
   "outputs": [],
   "source": [
    "# Parameters\n",
    "S0 = 100.0\n",
    "K = 100.0\n",
    "T = 1.0\n",
    "r = 0.05\n",
    "q = 0.08\n",
    "sigma = 0.35\n",
    "opttype = 'P'\n",
    "\n",
    "n_steps = 100 # steps\n",
    "dt = T / n_steps"
   ]
  },
  {
   "cell_type": "code",
   "execution_count": 4,
   "metadata": {},
   "outputs": [
    {
     "name": "stdout",
     "output_type": "stream",
     "text": [
      "Price of American Put Option = $14.4635131795728\n"
     ]
    }
   ],
   "source": [
    "# Pricing American Put Option Using a 100 Step Binomial Tree\n",
    "dp = {}\n",
    "option_price = american_option(dp, S0, K, T, r, q, sigma, n_steps, dt, opttype)\n",
    "print(f\"Price of American Put Option = ${option_price}\")"
   ]
  },
  {
   "cell_type": "markdown",
   "metadata": {},
   "source": [
    "### Run BOTH if calculating for CALL Option"
   ]
  },
  {
   "cell_type": "code",
   "execution_count": 5,
   "metadata": {},
   "outputs": [],
   "source": [
    "# Parameters\n",
    "S0 = 100.0\n",
    "K = 100.0\n",
    "T = 1.0\n",
    "r = 0.05\n",
    "q = 0.08\n",
    "sigma = 0.35\n",
    "opttype = 'C'\n",
    "\n",
    "n_steps = 100 # steps\n",
    "dt = T / n_steps"
   ]
  },
  {
   "cell_type": "code",
   "execution_count": 6,
   "metadata": {},
   "outputs": [
    {
     "name": "stdout",
     "output_type": "stream",
     "text": [
      "Price of American Call Option = $12.1188359407854\n"
     ]
    }
   ],
   "source": [
    "# Pricing American Call Option Using a 100 Step Binomial Tree\n",
    "dp = {}\n",
    "option_price = american_option(dp, S0, K, T, r, q, sigma, n_steps, dt, opttype)\n",
    "print(f\"Price of American Call Option = ${option_price}\")"
   ]
  },
  {
   "cell_type": "code",
   "execution_count": null,
   "metadata": {
    "scrolled": true
   },
   "outputs": [],
   "source": [
    "dp # for n_steps = 100"
   ]
  },
  {
   "cell_type": "markdown",
   "metadata": {},
   "source": [
    "# Delta\n"
   ]
  },
  {
   "cell_type": "code",
   "execution_count": 7,
   "metadata": {},
   "outputs": [],
   "source": [
    "def find_delta(S0, K, T, r, q, sigma, n_steps, dt, dp, opttype):\n",
    "    u = np.exp(sigma * np.sqrt(dt))\n",
    "    d = np.exp(-sigma * np.sqrt(dt))\n",
    "    f1 = dp[(S0 * u, n_steps-1)]\n",
    "    f0 = dp[(S0 * d, n_steps-1)]\n",
    "    return (f1 - f0) / (S0 * u - S0 * d)"
   ]
  },
  {
   "cell_type": "code",
   "execution_count": 8,
   "metadata": {},
   "outputs": [
    {
     "name": "stdout",
     "output_type": "stream",
     "text": [
      "Delta = 0.5235945884300923\n"
     ]
    }
   ],
   "source": [
    "delta = find_delta(S0, K, T, r, q, sigma, n_steps, dt, dp, opttype)\n",
    "print(f\"Delta = {delta}\")"
   ]
  },
  {
   "cell_type": "markdown",
   "metadata": {},
   "source": [
    "# Gamma"
   ]
  },
  {
   "cell_type": "code",
   "execution_count": 9,
   "metadata": {},
   "outputs": [],
   "source": [
    "def find_gamma(S0, K, T, r, q, sigma, n_steps, dt, dp, opttype):\n",
    "    u = np.exp(sigma * np.sqrt(dt))\n",
    "    d = np.exp(-sigma * np.sqrt(dt))\n",
    "\n",
    "    S1t1 = S0 * u\n",
    "    S0t1 = S0 * d\n",
    "\n",
    "    delta2 = find_delta(S1t1, K, T - dt, r, q, sigma, n_steps - 1, dt, dp, opttype)\n",
    "    delta1 = find_delta(S0t1, K, T - dt, r, q, sigma, n_steps - 1, dt, dp, opttype)\n",
    "\n",
    "    return (delta2 - delta1) / (S1t1 - S0t1)"
   ]
  },
  {
   "cell_type": "code",
   "execution_count": 10,
   "metadata": {},
   "outputs": [
    {
     "name": "stdout",
     "output_type": "stream",
     "text": [
      "Gamma = 0.011803751155039987\n"
     ]
    }
   ],
   "source": [
    "gamma = find_gamma(S0, K, T, r, q, sigma, n_steps, dt, dp, opttype)\n",
    "print(f\"Gamma = {gamma}\")"
   ]
  },
  {
   "cell_type": "markdown",
   "metadata": {},
   "source": [
    "# Theta"
   ]
  },
  {
   "cell_type": "code",
   "execution_count": 11,
   "metadata": {},
   "outputs": [],
   "source": [
    "def find_theta(S0, K, T, r, q, sigma, n_steps, dt, dp, opttype):\n",
    "    u = np.exp(sigma * np.sqrt(dt))\n",
    "    d = np.exp(-sigma * np.sqrt(dt))\n",
    "    \n",
    "    f50t100 = dp[(S0 * u**50 * d**50, 0)]\n",
    "    f0t0 = dp[(S0 , n_steps)]\n",
    "\n",
    "    return (f50t100 - f0t0) / 100 * dt"
   ]
  },
  {
   "cell_type": "code",
   "execution_count": 12,
   "metadata": {},
   "outputs": [
    {
     "name": "stdout",
     "output_type": "stream",
     "text": [
      "Theta = -0.0012118835940785372\n"
     ]
    }
   ],
   "source": [
    "theta = find_theta(S0, K, T, r, q, sigma, n_steps, dt, dp, opttype)\n",
    "print(f\"Theta = {theta}\")"
   ]
  },
  {
   "cell_type": "markdown",
   "metadata": {},
   "source": [
    "# Vega"
   ]
  },
  {
   "cell_type": "code",
   "execution_count": 13,
   "metadata": {},
   "outputs": [],
   "source": [
    "def find_vega(S0, K, T, r, q, sigma, n_steps, dt, dp, opttype):\n",
    "    \n",
    "    # Run binomial tree on a different sigma (sigmaPrime)\n",
    "    deltaSigma = 0.2\n",
    "    sigmaPrime = sigma + deltaSigma\n",
    "    u = np.exp(sigma * np.sqrt(dt))\n",
    "    d = np.exp(-sigma * np.sqrt(dt))\n",
    "    \n",
    "    dtPrime = {}\n",
    "    \n",
    "    fprime = american_option(dtPrime, S0, K, T, r, q, sigmaPrime, n_steps, dt, opttype)\n",
    "#     print(fprime)\n",
    "    f = dp[(S0, n_steps)]\n",
    "#     print(f)\n",
    "\n",
    "\n",
    "    return (fprime - f) / (deltaSigma*100)"
   ]
  },
  {
   "cell_type": "code",
   "execution_count": 14,
   "metadata": {},
   "outputs": [
    {
     "name": "stdout",
     "output_type": "stream",
     "text": [
      "Vega = 0.3685443678166533\n"
     ]
    }
   ],
   "source": [
    "vega = find_vega(S0, K, T, r, q, sigma, n_steps, dt, dp, opttype)\n",
    "print(f\"Vega = {vega}\")"
   ]
  },
  {
   "cell_type": "markdown",
   "metadata": {},
   "source": [
    "# Rho"
   ]
  },
  {
   "cell_type": "code",
   "execution_count": 15,
   "metadata": {},
   "outputs": [],
   "source": [
    "def find_rho(S0, K, T, r, q, sigma, n_steps, dt, dp, opttype):\n",
    "    \n",
    "    # Run binomial tree on a different sigma (sigmaPrime)\n",
    "    deltaR = 0.1\n",
    "    rPrime = r + deltaR\n",
    "    u = np.exp(sigma * np.sqrt(dt))\n",
    "    d = np.exp(-sigma * np.sqrt(dt))\n",
    "    \n",
    "    dtPrime = {}\n",
    "    \n",
    "    fprime = american_option(dtPrime, S0, K, T, rPrime, q, sigma, n_steps, dt, opttype)\n",
    "#     print(fprime)\n",
    "    f = dp[(S0, n_steps)]\n",
    "#     print(f)\n",
    "\n",
    "\n",
    "    return (fprime - f) / (deltaR*100)"
   ]
  },
  {
   "cell_type": "code",
   "execution_count": 16,
   "metadata": {},
   "outputs": [
    {
     "name": "stdout",
     "output_type": "stream",
     "text": [
      "Rho = 0.3619865542935468\n"
     ]
    }
   ],
   "source": [
    "rho = find_rho(S0, K, T, r, q, sigma, n_steps, dt, dp, opttype)\n",
    "print(f\"Rho = {rho}\")"
   ]
  },
  {
   "cell_type": "code",
   "execution_count": null,
   "metadata": {},
   "outputs": [],
   "source": []
  }
 ],
 "metadata": {
  "kernelspec": {
   "display_name": "Python 3",
   "language": "python",
   "name": "python3"
  },
  "language_info": {
   "codemirror_mode": {
    "name": "ipython",
    "version": 3
   },
   "file_extension": ".py",
   "mimetype": "text/x-python",
   "name": "python",
   "nbconvert_exporter": "python",
   "pygments_lexer": "ipython3",
   "version": "3.8.3"
  }
 },
 "nbformat": 4,
 "nbformat_minor": 4
}
